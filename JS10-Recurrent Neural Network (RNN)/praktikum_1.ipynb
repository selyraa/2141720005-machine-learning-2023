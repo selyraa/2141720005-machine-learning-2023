{
  "nbformat": 4,
  "nbformat_minor": 0,
  "metadata": {
    "colab": {
      "provenance": [],
      "gpuType": "T4",
      "authorship_tag": "ABX9TyN8G5+ie9xCy+5E142TuiO+",
      "include_colab_link": true
    },
    "kernelspec": {
      "name": "python3",
      "display_name": "Python 3"
    },
    "language_info": {
      "name": "python"
    },
    "accelerator": "GPU"
  },
  "cells": [
    {
      "cell_type": "markdown",
      "metadata": {
        "id": "view-in-github",
        "colab_type": "text"
      },
      "source": [
        "<a href=\"https://colab.research.google.com/github/selyraa/2141720005-machine-learning-2023/blob/main/JS10-Recurrent%20Neural%20Network%20(RNN)/praktikum_1.ipynb\" target=\"_parent\"><img src=\"https://colab.research.google.com/assets/colab-badge.svg\" alt=\"Open In Colab\"/></a>"
      ]
    },
    {
      "cell_type": "markdown",
      "source": [
        "# Praktikum 1\n",
        "RNN untuk Analisis Sentimen"
      ],
      "metadata": {
        "id": "f_Qvlthcrmht"
      }
    },
    {
      "cell_type": "markdown",
      "source": [
        "## Setup\n",
        "Impor matplotlib dan buat fungsi pembantu untuk memplot grafik:"
      ],
      "metadata": {
        "id": "6jywYiisrvQu"
      }
    },
    {
      "cell_type": "code",
      "execution_count": 1,
      "metadata": {
        "id": "XTLBvpzCrdjE"
      },
      "outputs": [],
      "source": [
        "import numpy as np\n",
        "import tensorflow_datasets as tfds\n",
        "import tensorflow as tf\n",
        "\n",
        "tfds.disable_progress_bar()"
      ]
    },
    {
      "cell_type": "code",
      "source": [
        "import matplotlib.pyplot as plt\n",
        "\n",
        "def plot_graphs(history, metric):\n",
        "  plt.plot(history.history[metric])\n",
        "  plt.plot(history.history['val_'+metric], '')\n",
        "  plt.xlabel(\"Epochs\")\n",
        "  plt.ylabel(metric)\n",
        "  plt.legend([metric, 'val_'+metric])"
      ],
      "metadata": {
        "id": "sIH-0YR9r1H4"
      },
      "execution_count": 2,
      "outputs": []
    },
    {
      "cell_type": "markdown",
      "source": [
        "## Setup input pipeline\n",
        "Dataset ulasan film IMDB adalah kumpulan data klasifikasi biner—semua ulasan memiliki sentimen positif atau negatif."
      ],
      "metadata": {
        "id": "sSNcok-IsQXr"
      }
    },
    {
      "cell_type": "code",
      "source": [
        "dataset, info = tfds.load('imdb_reviews', with_info=True,\n",
        "                          as_supervised=True)\n",
        "train_dataset, test_dataset = dataset['train'], dataset['test']\n",
        "\n",
        "train_dataset.element_spec"
      ],
      "metadata": {
        "colab": {
          "base_uri": "https://localhost:8080/"
        },
        "id": "dwEKAnGNsETw",
        "outputId": "3cf00a02-76e8-4d0b-fa43-ca815f926b61"
      },
      "execution_count": 3,
      "outputs": [
        {
          "output_type": "stream",
          "name": "stdout",
          "text": [
            "Downloading and preparing dataset 80.23 MiB (download: 80.23 MiB, generated: Unknown size, total: 80.23 MiB) to /root/tensorflow_datasets/imdb_reviews/plain_text/1.0.0...\n",
            "Dataset imdb_reviews downloaded and prepared to /root/tensorflow_datasets/imdb_reviews/plain_text/1.0.0. Subsequent calls will reuse this data.\n"
          ]
        },
        {
          "output_type": "execute_result",
          "data": {
            "text/plain": [
              "(TensorSpec(shape=(), dtype=tf.string, name=None),\n",
              " TensorSpec(shape=(), dtype=tf.int64, name=None))"
            ]
          },
          "metadata": {},
          "execution_count": 3
        }
      ]
    },
    {
      "cell_type": "markdown",
      "source": [
        "Awalnya ini mengembalikan dataset (teks, pasangan label):"
      ],
      "metadata": {
        "id": "eIUusbkXs4ud"
      }
    },
    {
      "cell_type": "code",
      "source": [
        "for example, label in train_dataset.take(1):\n",
        "  print('text: ', example.numpy())\n",
        "  print('label: ', label.numpy())"
      ],
      "metadata": {
        "colab": {
          "base_uri": "https://localhost:8080/"
        },
        "id": "UTHnfqzNsefo",
        "outputId": "10b363e4-e366-41c6-e6ac-8231b1dc6fb7"
      },
      "execution_count": 7,
      "outputs": [
        {
          "output_type": "stream",
          "name": "stdout",
          "text": [
            "text:  b\"This was an absolutely terrible movie. Don't be lured in by Christopher Walken or Michael Ironside. Both are great actors, but this must simply be their worst role in history. Even their great acting could not redeem this movie's ridiculous storyline. This movie is an early nineties US propaganda piece. The most pathetic scenes were those when the Columbian rebels were making their cases for revolutions. Maria Conchita Alonso appeared phony, and her pseudo-love affair with Walken was nothing but a pathetic emotional plug in a movie that was devoid of any real meaning. I am disappointed that there are movies like this, ruining actor's like Christopher Walken's good name. I could barely sit through it.\"\n",
            "label:  0\n"
          ]
        }
      ]
    },
    {
      "cell_type": "markdown",
      "source": [
        "Berikutnya acak data untuk pelatihan dan membuat kumpulan pasangan (teks, label) ini:"
      ],
      "metadata": {
        "id": "qc4taDfdtn-B"
      }
    },
    {
      "cell_type": "code",
      "source": [
        "BUFFER_SIZE = 10000\n",
        "BATCH_SIZE = 64\n",
        "\n",
        "train_dataset = train_dataset.shuffle(BUFFER_SIZE).batch(BATCH_SIZE).prefetch(tf.data.AUTOTUNE)\n",
        "test_dataset = test_dataset.batch(BATCH_SIZE).prefetch(tf.data.AUTOTUNE)\n",
        "\n",
        "for example, label in train_dataset.take(1):\n",
        "  print('texts: ', example.numpy()[:3])\n",
        "  print()\n",
        "  print('labels: ', label.numpy()[:3])\n"
      ],
      "metadata": {
        "colab": {
          "base_uri": "https://localhost:8080/"
        },
        "id": "5EuIOJ-9tCQU",
        "outputId": "e92db0af-6f32-4814-f010-3276ab5fbc41"
      },
      "execution_count": 8,
      "outputs": [
        {
          "output_type": "stream",
          "name": "stdout",
          "text": [
            "texts:  [b\"Hayao Miyazaki name became prominent with Spitied Away, however what is often overlooked are director's first film efforts. Who remembers that Spielberg directed Duel or George Lucas directed THX 1138? I remember seeing fragments of this movie - almost certainly the last 45 minutes in late 80s and what stuck with me was the visual lushness of the design and animation. So when I found a copy in a well known store for \\xc2\\xa39 I couldn't resist but buy it. The odd thing is that the last 45 minutes of the movie do not tally with my memory of it (memory is funny that way).<br /><br />Viewing this movie now with all the gained knowledge of artists portfolios is how very like Jean 'Moebius' Giraud some of the artwork is. I can only assume some influence here.<br /><br />When Pazu catches a falling girl (Sheeta) his adventure really begins - the quest for Laputa - a reference to Jonathan Swift's overlooked portion of Gulliver's Travels. With healthy references to Jules Verne it's a basic good vs. bad chase movie with the final portion having the heroes end up on Laputa.<br /><br />This is the portion that is strongest in my memory - the 'pastoral' ecological aspect of Laputa returned to nature - the multitude of robots covered in moss beneath the giant tree. This is, in my opinion, the highlight of the movie - the views of the surface of Laputa, as opposed to the mechanised underground.<br /><br />Although this is the dichotomy of this movie - to show that even technology cannot overcome nature - the irony of the last robot tending the garden and animals. The ending of the movie Silent Running is almost exactly the same.<br /><br />It is incredibly stylish, I would not say 'slick' - very beautiful and organic and a tremendous amount of detail in the buildings, airships and the design and look of just about everything.<br /><br />Myazaki is a true master of this kind of Japnanese anime. Buy this movie and treasure it.\"\n",
            " b\"This movie was a disappointment. I was looking forward to seeing a good movie. I am the type of person who starts a movie and doesn't turn it off until the end, but I was forcing myself not to turn it off. <br /><br />Theonly reason why I didn't turn it off was because I am a huge Christian Slater fan and I wanted to see him act in it. I was really speechless after I finished watching the movie. <br /><br />This movie was one of the worst movies that I have seen in my life. Thank you Christian Slater for putting some humor into it. If you hadn't been in this movie I would of been bored out of my mind.<br /><br />I also agree that Anthony Hopkins needs to stick to acting. By the time the movie was over I didn't even get the plot. I was both confused and annoyed.\"\n",
            " b'A very enjoyable film, providing you know how to watch old musicals / mysteries. It may not come close to Agatha Christie or even Thin Man mysteries as a film noir, but it\\'s much more interesting than your typical \"boy meets girl\" or \"let\\'s put on a show\" backstage musical. As a musical, it\\'s no Busby Berkley or Freed unit, but it can boost the classic \"Coctails for two\" and the weird \"Sweet Marijuana\". The film runs in real time during a stage show, opening night of the \"Vanities\", where a murder - and soon another - is discovered backstage. Is the murderer found out before the curtain falls? Sure, but the search is fun, even though somewhat predictable and marred by outbursts of comic relief (luckily in the shape of the shapely goddess of the chorus girls, Toby Wing). The stupid cop is just a bit too stupid, the leading hero is just a bit too likable, the leading lady a bit too gracious, the bitchy prima donna bit too bitchy, and the enamoured waif a bit too self-sacrificing, but as stereotypes go, they are pretty stylish. There\\'s a bevy of really gorgeous chorus girls, who are chosen even better than the girls for a Busby Berkley musical of the same period, who sometimes tend to be a bit on the plump side. Yes, this film could have been much better than it is, and the Duke Ellington number is an embarrassment, but if you enjoy diving into old movies, this will prove to be a tremendously tantalizing trip.']\n",
            "\n",
            "labels:  [1 0 1]\n"
          ]
        }
      ]
    },
    {
      "cell_type": "markdown",
      "source": [
        "## Buat Teks Encoder\n",
        "Teks mentah yang dimuat oleh tfds perlu diproses sebelum dapat digunakan dalam model. Cara termudah memproses teks untuk pelatihan adalah menggunakan lapisan TextVectorization. Lapisan ini memiliki banyak kemampuan, namun pada tutorial ini menggunakan perilaku default. Buat lapisan tersebut, dan teruskan teks kumpulan data ke metode .adapt lapisan:"
      ],
      "metadata": {
        "id": "J6smvnBQu2fW"
      }
    },
    {
      "cell_type": "code",
      "source": [
        "VOCAB_SIZE = 1000\n",
        "encoder = tf.keras.layers.TextVectorization(\n",
        "    max_tokens=VOCAB_SIZE)\n",
        "encoder.adapt(train_dataset.map(lambda text, label: text))"
      ],
      "metadata": {
        "id": "i7PRaU75tvR9"
      },
      "execution_count": 9,
      "outputs": []
    },
    {
      "cell_type": "markdown",
      "source": [
        "Metode .adapt mengatur kosakata lapisan. 20 token pertama dapat dilihat dengan kode berikut. Setelah padding dan token yang tidak diketahui, mereka diurutkan berdasarkan frekuensi:"
      ],
      "metadata": {
        "id": "WZosLIH8vO7A"
      }
    },
    {
      "cell_type": "code",
      "source": [
        "vocab = np.array(encoder.get_vocabulary())\n",
        "vocab[:20]"
      ],
      "metadata": {
        "colab": {
          "base_uri": "https://localhost:8080/"
        },
        "id": "cnDtoxfhvJ-k",
        "outputId": "cb7536e2-4c45-4bf2-9191-e7efedb6966d"
      },
      "execution_count": 11,
      "outputs": [
        {
          "output_type": "execute_result",
          "data": {
            "text/plain": [
              "array(['', '[UNK]', 'the', 'and', 'a', 'of', 'to', 'is', 'in', 'it', 'i',\n",
              "       'this', 'that', 'br', 'was', 'as', 'for', 'with', 'movie', 'but'],\n",
              "      dtype='<U14')"
            ]
          },
          "metadata": {},
          "execution_count": 11
        }
      ]
    },
    {
      "cell_type": "markdown",
      "source": [
        "Setelah kosakata diatur, lapisan dapat mengkodekan teks ke dalam indeks. Tensor indeks diberi bantalan 0 ke urutan terpanjang dalam batch (kecuali jika Anda menetapkan output_sequence_length tetap):"
      ],
      "metadata": {
        "id": "smXO2-Gwx3Gw"
      }
    },
    {
      "cell_type": "code",
      "source": [
        "encoded_example = encoder(example)[:3].numpy()\n",
        "encoded_example"
      ],
      "metadata": {
        "colab": {
          "base_uri": "https://localhost:8080/"
        },
        "id": "Rkcu1oYBv3jn",
        "outputId": "c553c631-c7a6-490d-fae1-d0ebcd9e1788"
      },
      "execution_count": 12,
      "outputs": [
        {
          "output_type": "execute_result",
          "data": {
            "text/plain": [
              "array([[  1,   1, 398, ...,   0,   0,   0],\n",
              "       [ 11,  18,  14, ...,   0,   0,   0],\n",
              "       [  4,  53, 736, ...,   0,   0,   0]])"
            ]
          },
          "metadata": {},
          "execution_count": 12
        }
      ]
    },
    {
      "cell_type": "markdown",
      "source": [
        "Dengan pengaturan default, prosesnya tidak dapat dibalik sepenuhnya. Ada dua alasan utama untuk itu:\n",
        "- Nilai default untuk argumen standarisasi preprocessing.TextVectorization adalah \"lower_and_strip_punctuation\".\n",
        "- Ukuran kosa kata yang terbatas dan kurangnya fallback berbasis karakter menghasilkan beberapa token yang tidak diketahui."
      ],
      "metadata": {
        "id": "5ifWY5jhyzNh"
      }
    },
    {
      "cell_type": "code",
      "source": [
        "for n in range(3):\n",
        "  print(\"Original: \", example[n].numpy())\n",
        "  print(\"Round-trip: \", \" \".join(vocab[encoded_example[n]]))\n",
        "  print()"
      ],
      "metadata": {
        "colab": {
          "base_uri": "https://localhost:8080/"
        },
        "id": "R1xn5sobyEQR",
        "outputId": "62eec3c1-6ab5-4180-b144-33e8a4b72865"
      },
      "execution_count": 13,
      "outputs": [
        {
          "output_type": "stream",
          "name": "stdout",
          "text": [
            "Original:  b\"Hayao Miyazaki name became prominent with Spitied Away, however what is often overlooked are director's first film efforts. Who remembers that Spielberg directed Duel or George Lucas directed THX 1138? I remember seeing fragments of this movie - almost certainly the last 45 minutes in late 80s and what stuck with me was the visual lushness of the design and animation. So when I found a copy in a well known store for \\xc2\\xa39 I couldn't resist but buy it. The odd thing is that the last 45 minutes of the movie do not tally with my memory of it (memory is funny that way).<br /><br />Viewing this movie now with all the gained knowledge of artists portfolios is how very like Jean 'Moebius' Giraud some of the artwork is. I can only assume some influence here.<br /><br />When Pazu catches a falling girl (Sheeta) his adventure really begins - the quest for Laputa - a reference to Jonathan Swift's overlooked portion of Gulliver's Travels. With healthy references to Jules Verne it's a basic good vs. bad chase movie with the final portion having the heroes end up on Laputa.<br /><br />This is the portion that is strongest in my memory - the 'pastoral' ecological aspect of Laputa returned to nature - the multitude of robots covered in moss beneath the giant tree. This is, in my opinion, the highlight of the movie - the views of the surface of Laputa, as opposed to the mechanised underground.<br /><br />Although this is the dichotomy of this movie - to show that even technology cannot overcome nature - the irony of the last robot tending the garden and animals. The ending of the movie Silent Running is almost exactly the same.<br /><br />It is incredibly stylish, I would not say 'slick' - very beautiful and organic and a tremendous amount of detail in the buildings, airships and the design and look of just about everything.<br /><br />Myazaki is a true master of this kind of Japnanese anime. Buy this movie and treasure it.\"\n",
            "Round-trip:  [UNK] [UNK] name became [UNK] with [UNK] away however what is often [UNK] are directors first film [UNK] who [UNK] that [UNK] directed [UNK] or george [UNK] directed [UNK] [UNK] i remember seeing [UNK] of this movie almost certainly the last [UNK] minutes in late 80s and what [UNK] with me was the [UNK] [UNK] of the [UNK] and animation so when i found a [UNK] in a well known [UNK] for [UNK] i couldnt [UNK] but buy it the [UNK] thing is that the last [UNK] minutes of the movie do not [UNK] with my [UNK] of it [UNK] is funny that [UNK] br viewing this movie now with all the [UNK] [UNK] of [UNK] [UNK] is how very like [UNK] [UNK] [UNK] some of the [UNK] is i can only [UNK] some [UNK] [UNK] br when [UNK] [UNK] a [UNK] girl [UNK] his [UNK] really begins the [UNK] for [UNK] a [UNK] to [UNK] [UNK] [UNK] [UNK] of [UNK] [UNK] with [UNK] [UNK] to [UNK] [UNK] its a [UNK] good [UNK] bad [UNK] movie with the final [UNK] having the [UNK] end up on [UNK] br this is the [UNK] that is [UNK] in my [UNK] the [UNK] [UNK] [UNK] of [UNK] [UNK] to nature the [UNK] of [UNK] [UNK] in [UNK] [UNK] the [UNK] [UNK] this is in my opinion the [UNK] of the movie the [UNK] of the [UNK] of [UNK] as [UNK] to the [UNK] [UNK] br although this is the [UNK] of this movie to show that even [UNK] cannot [UNK] nature the [UNK] of the last [UNK] [UNK] the [UNK] and [UNK] the ending of the movie [UNK] running is almost exactly the [UNK] br it is incredibly [UNK] i would not say [UNK] very beautiful and [UNK] and a [UNK] [UNK] of [UNK] in the [UNK] [UNK] and the [UNK] and look of just about [UNK] br [UNK] is a true [UNK] of this kind of [UNK] [UNK] buy this movie and [UNK] it                                                                                                                                                                                                                                                                                                                                                                                                                                                                                                                                                                                                                                      \n",
            "\n",
            "Original:  b\"This movie was a disappointment. I was looking forward to seeing a good movie. I am the type of person who starts a movie and doesn't turn it off until the end, but I was forcing myself not to turn it off. <br /><br />Theonly reason why I didn't turn it off was because I am a huge Christian Slater fan and I wanted to see him act in it. I was really speechless after I finished watching the movie. <br /><br />This movie was one of the worst movies that I have seen in my life. Thank you Christian Slater for putting some humor into it. If you hadn't been in this movie I would of been bored out of my mind.<br /><br />I also agree that Anthony Hopkins needs to stick to acting. By the time the movie was over I didn't even get the plot. I was both confused and annoyed.\"\n",
            "Round-trip:  this movie was a [UNK] i was looking forward to seeing a good movie i am the type of person who starts a movie and doesnt turn it off until the end but i was [UNK] myself not to turn it off br br [UNK] reason why i didnt turn it off was because i am a huge [UNK] [UNK] fan and i wanted to see him act in it i was really [UNK] after i [UNK] watching the movie br br this movie was one of the worst movies that i have seen in my life [UNK] you [UNK] [UNK] for [UNK] some humor into it if you [UNK] been in this movie i would of been [UNK] out of my [UNK] br i also [UNK] that [UNK] [UNK] needs to [UNK] to acting by the time the movie was over i didnt even get the plot i was both [UNK] and [UNK]                                                                                                                                                                                                                                                                                                                                                                                                                                                                                                                                                                                                                                                                                                                                                                                                                        \n",
            "\n",
            "Original:  b'A very enjoyable film, providing you know how to watch old musicals / mysteries. It may not come close to Agatha Christie or even Thin Man mysteries as a film noir, but it\\'s much more interesting than your typical \"boy meets girl\" or \"let\\'s put on a show\" backstage musical. As a musical, it\\'s no Busby Berkley or Freed unit, but it can boost the classic \"Coctails for two\" and the weird \"Sweet Marijuana\". The film runs in real time during a stage show, opening night of the \"Vanities\", where a murder - and soon another - is discovered backstage. Is the murderer found out before the curtain falls? Sure, but the search is fun, even though somewhat predictable and marred by outbursts of comic relief (luckily in the shape of the shapely goddess of the chorus girls, Toby Wing). The stupid cop is just a bit too stupid, the leading hero is just a bit too likable, the leading lady a bit too gracious, the bitchy prima donna bit too bitchy, and the enamoured waif a bit too self-sacrificing, but as stereotypes go, they are pretty stylish. There\\'s a bevy of really gorgeous chorus girls, who are chosen even better than the girls for a Busby Berkley musical of the same period, who sometimes tend to be a bit on the plump side. Yes, this film could have been much better than it is, and the Duke Ellington number is an embarrassment, but if you enjoy diving into old movies, this will prove to be a tremendously tantalizing trip.'\n",
            "Round-trip:  a very enjoyable film [UNK] you know how to watch old [UNK] [UNK] it may not come close to [UNK] [UNK] or even [UNK] man [UNK] as a film [UNK] but its much more interesting than your typical boy meets girl or lets put on a show [UNK] musical as a musical its no [UNK] [UNK] or [UNK] [UNK] but it can [UNK] the classic [UNK] for two and the weird [UNK] [UNK] the film [UNK] in real time during a stage show opening night of the [UNK] where a murder and soon another is [UNK] [UNK] is the [UNK] found out before the [UNK] falls sure but the [UNK] is fun even though somewhat predictable and [UNK] by [UNK] of comic [UNK] [UNK] in the [UNK] of the [UNK] [UNK] of the [UNK] girls [UNK] [UNK] the stupid [UNK] is just a bit too stupid the leading hero is just a bit too [UNK] the leading lady a bit too [UNK] the [UNK] [UNK] [UNK] bit too [UNK] and the [UNK] [UNK] a bit too [UNK] but as [UNK] go they are pretty [UNK] theres a [UNK] of really [UNK] [UNK] girls who are [UNK] even better than the girls for a [UNK] [UNK] musical of the same period who sometimes [UNK] to be a bit on the [UNK] side yes this film could have been much better than it is and the [UNK] [UNK] number is an [UNK] but if you enjoy [UNK] into old movies this will [UNK] to be a [UNK] [UNK] [UNK]                                                                                                                                                                                                                                                                                                                                                                                                                                                                                                                                                                                                                                                                                                                 \n",
            "\n"
          ]
        }
      ]
    },
    {
      "cell_type": "markdown",
      "source": [
        "## Buat Model"
      ],
      "metadata": {
        "id": "pfaoaGQZzUNX"
      }
    },
    {
      "cell_type": "code",
      "source": [
        "model = tf.keras.Sequential([\n",
        "    encoder,\n",
        "    tf.keras.layers.Embedding(\n",
        "        input_dim=len(encoder.get_vocabulary()),\n",
        "        output_dim=64,\n",
        "        # Use masking to handle the variable sequence lengths\n",
        "        mask_zero=True),\n",
        "    tf.keras.layers.Bidirectional(tf.keras.layers.LSTM(64)),\n",
        "    tf.keras.layers.Dense(64, activation='relu'),\n",
        "    tf.keras.layers.Dense(1)\n",
        "])"
      ],
      "metadata": {
        "id": "f871k5o7zA9d"
      },
      "execution_count": 14,
      "outputs": []
    },
    {
      "cell_type": "code",
      "source": [
        "print([layer.supports_masking for layer in model.layers])"
      ],
      "metadata": {
        "colab": {
          "base_uri": "https://localhost:8080/"
        },
        "id": "XCEzKsNM1yRV",
        "outputId": "46140aad-61f1-4885-8418-3e77445525a8"
      },
      "execution_count": 17,
      "outputs": [
        {
          "output_type": "stream",
          "name": "stdout",
          "text": [
            "[False, True, True, True, True]\n"
          ]
        }
      ]
    },
    {
      "cell_type": "code",
      "source": [
        "for i, layer in enumerate(model.layers):\n",
        "    print(f\"Lapisan {i}: {layer}\")\n"
      ],
      "metadata": {
        "colab": {
          "base_uri": "https://localhost:8080/"
        },
        "id": "eJqCLkiC390S",
        "outputId": "6e1733da-c526-4f6f-ff01-ea7c6cd7abf1"
      },
      "execution_count": 21,
      "outputs": [
        {
          "output_type": "stream",
          "name": "stdout",
          "text": [
            "Lapisan 0: <keras.src.layers.preprocessing.text_vectorization.TextVectorization object at 0x7b1b1ff4cd00>\n",
            "Lapisan 1: <keras.src.layers.core.embedding.Embedding object at 0x7b1b260728f0>\n",
            "Lapisan 2: <keras.src.layers.rnn.bidirectional.Bidirectional object at 0x7b1b26073820>\n",
            "Lapisan 3: <keras.src.layers.core.dense.Dense object at 0x7b1b26070dc0>\n",
            "Lapisan 4: <keras.src.layers.core.dense.Dense object at 0x7b1b26070c10>\n"
          ]
        }
      ]
    },
    {
      "cell_type": "markdown",
      "source": [
        "Untuk memastikan bahwa ini berfungsi seperti yang diharapkan, evaluasi sebuah kalimat dua kali. Pertama, satu kalimat sehingga tidak ada bantalan (padding) untuk disamarkan:"
      ],
      "metadata": {
        "id": "uJKbsIKe2u02"
      }
    },
    {
      "cell_type": "code",
      "source": [
        "# predict on a sample text without padding.\n",
        "\n",
        "sample_text = ('The movie was cool. The animation and the graphics '\n",
        "               'were out of this world. I would recommend this movie.')\n",
        "predictions = model.predict(np.array([sample_text]))\n",
        "print(predictions[0])"
      ],
      "metadata": {
        "colab": {
          "base_uri": "https://localhost:8080/"
        },
        "id": "Zkxf-hJN2Vqv",
        "outputId": "75033b45-2c8c-4484-8ef3-c3e9f03300c6"
      },
      "execution_count": 18,
      "outputs": [
        {
          "output_type": "stream",
          "name": "stdout",
          "text": [
            "1/1 [==============================] - 9s 9s/step\n",
            "[-0.00950202]\n"
          ]
        }
      ]
    },
    {
      "cell_type": "markdown",
      "source": [
        "Sekarang, evaluasi lagi dalam batch dengan kalimat yang lebih panjang. Hasilnya harus sama:"
      ],
      "metadata": {
        "id": "8W8bv08b3N9T"
      }
    },
    {
      "cell_type": "code",
      "source": [
        "# predict on a sample text with padding\n",
        "\n",
        "padding = \"the \" * 2000\n",
        "predictions = model.predict(np.array([sample_text, padding]))\n",
        "print(predictions[0])"
      ],
      "metadata": {
        "colab": {
          "base_uri": "https://localhost:8080/"
        },
        "id": "oGiDLtcf22aZ",
        "outputId": "6e09f5d8-65b5-4eea-d206-5327b870228d"
      },
      "execution_count": 19,
      "outputs": [
        {
          "output_type": "stream",
          "name": "stdout",
          "text": [
            "1/1 [==============================] - 0s 63ms/step\n",
            "[-0.00950202]\n"
          ]
        }
      ]
    },
    {
      "cell_type": "markdown",
      "source": [
        "compile model Keras untuk mengonfigurasi proses pelatihan:"
      ],
      "metadata": {
        "id": "cIJMF5HV3Wxz"
      }
    },
    {
      "cell_type": "code",
      "source": [
        "model.compile(loss=tf.keras.losses.BinaryCrossentropy(from_logits=True),\n",
        "              optimizer=tf.keras.optimizers.Adam(1e-4),\n",
        "              metrics=['accuracy'])"
      ],
      "metadata": {
        "id": "C7d6Jof83TkC"
      },
      "execution_count": 20,
      "outputs": []
    },
    {
      "cell_type": "markdown",
      "source": [
        "## Train Model"
      ],
      "metadata": {
        "id": "ZsjZBHOv57Cr"
      }
    },
    {
      "cell_type": "code",
      "source": [
        "history = model.fit(train_dataset, epochs=10, validation_data=test_dataset, validation_steps=30)"
      ],
      "metadata": {
        "colab": {
          "base_uri": "https://localhost:8080/"
        },
        "id": "j76HxDJs3bRg",
        "outputId": "3051fd2b-5c78-4ba4-8a5c-cfaa7f368bbb"
      },
      "execution_count": 22,
      "outputs": [
        {
          "output_type": "stream",
          "name": "stdout",
          "text": [
            "Epoch 1/10\n",
            "391/391 [==============================] - 53s 107ms/step - loss: 0.6147 - accuracy: 0.5989 - val_loss: 0.4563 - val_accuracy: 0.8057\n",
            "Epoch 2/10\n",
            "391/391 [==============================] - 29s 73ms/step - loss: 0.3850 - accuracy: 0.8260 - val_loss: 0.3609 - val_accuracy: 0.8323\n",
            "Epoch 3/10\n",
            "391/391 [==============================] - 28s 71ms/step - loss: 0.3375 - accuracy: 0.8518 - val_loss: 0.3708 - val_accuracy: 0.8516\n",
            "Epoch 4/10\n",
            "391/391 [==============================] - 25s 65ms/step - loss: 0.3223 - accuracy: 0.8605 - val_loss: 0.3330 - val_accuracy: 0.8536\n",
            "Epoch 5/10\n",
            "391/391 [==============================] - 26s 66ms/step - loss: 0.3140 - accuracy: 0.8633 - val_loss: 0.3301 - val_accuracy: 0.8599\n",
            "Epoch 6/10\n",
            "391/391 [==============================] - 26s 67ms/step - loss: 0.3117 - accuracy: 0.8638 - val_loss: 0.3224 - val_accuracy: 0.8568\n",
            "Epoch 7/10\n",
            "391/391 [==============================] - 25s 62ms/step - loss: 0.3058 - accuracy: 0.8686 - val_loss: 0.3341 - val_accuracy: 0.8615\n",
            "Epoch 8/10\n",
            "391/391 [==============================] - 26s 66ms/step - loss: 0.3028 - accuracy: 0.8703 - val_loss: 0.3228 - val_accuracy: 0.8568\n",
            "Epoch 9/10\n",
            "391/391 [==============================] - 25s 65ms/step - loss: 0.3041 - accuracy: 0.8676 - val_loss: 0.3217 - val_accuracy: 0.8599\n",
            "Epoch 10/10\n",
            "391/391 [==============================] - 25s 65ms/step - loss: 0.3005 - accuracy: 0.8703 - val_loss: 0.3260 - val_accuracy: 0.8573\n"
          ]
        }
      ]
    },
    {
      "cell_type": "code",
      "source": [
        "test_loss, test_acc = model.evaluate(test_dataset)\n",
        "\n",
        "print('Test Loss:', test_loss)\n",
        "print('Test Accuracy:', test_acc)"
      ],
      "metadata": {
        "colab": {
          "base_uri": "https://localhost:8080/"
        },
        "id": "K8eO1J746CbR",
        "outputId": "6f8476f8-3e94-447f-c0a4-53b0d74b2a96"
      },
      "execution_count": 23,
      "outputs": [
        {
          "output_type": "stream",
          "name": "stdout",
          "text": [
            "391/391 [==============================] - 12s 30ms/step - loss: 0.3217 - accuracy: 0.8580\n",
            "Test Loss: 0.3216610252857208\n",
            "Test Accuracy: 0.8579999804496765\n"
          ]
        }
      ]
    },
    {
      "cell_type": "code",
      "source": [
        "plt.figure(figsize=(16, 8))\n",
        "plt.subplot(1, 2, 1)\n",
        "plot_graphs(history, 'accuracy')\n",
        "plt.ylim(None, 1)\n",
        "plt.subplot(1, 2, 2)\n",
        "plot_graphs(history, 'loss')\n",
        "plt.ylim(0, None)"
      ],
      "metadata": {
        "colab": {
          "base_uri": "https://localhost:8080/",
          "height": 718
        },
        "id": "3FhP9Vw06O7j",
        "outputId": "6ddde05d-020a-48bb-f665-c077715bc253"
      },
      "execution_count": 24,
      "outputs": [
        {
          "output_type": "execute_result",
          "data": {
            "text/plain": [
              "(0.0, 0.6303836017847061)"
            ]
          },
          "metadata": {},
          "execution_count": 24
        },
        {
          "output_type": "display_data",
          "data": {
            "text/plain": [
              "<Figure size 1600x800 with 2 Axes>"
            ],
            "image/png": "[encoded data removed]"
          },
          "metadata": {}
        }
      ]
    },
    {
      "cell_type": "markdown",
      "source": [
        "Jalankan prediksi pada kalimat baru:\n",
        "\n",
        "Jika prediksi >= 0,0 berarti positif, jika tidak maka negatif."
      ],
      "metadata": {
        "id": "qVW8ZaXF6WBl"
      }
    },
    {
      "cell_type": "code",
      "source": [
        "sample_text = ('The movie was cool. The animation and the graphics '\n",
        "                'were out of this world. I would recommend this movie.')\n",
        "predictions = model.predict(np.array([sample_text]))\n",
        "print(predictions[0])"
      ],
      "metadata": {
        "colab": {
          "base_uri": "https://localhost:8080/"
        },
        "id": "c_oBaO4F6WcE",
        "outputId": "263805ba-d64a-47c3-fbb4-81ef514cb7c6"
      },
      "execution_count": 28,
      "outputs": [
        {
          "output_type": "stream",
          "name": "stdout",
          "text": [
            "1/1 [==============================] - 0s 83ms/step\n",
            "[0.71019655]\n"
          ]
        }
      ]
    },
    {
      "cell_type": "markdown",
      "source": [
        "## Stack two or more LSTM layers\n",
        "Hal yang menarik dari penggunaan RNN dengan return_sequences=True adalah outputnya masih memiliki 3 axis, sama seperti inputnya, sehingga bisa diteruskan ke layer RNN lain, seperti ini:"
      ],
      "metadata": {
        "id": "rN3gyz_38wIB"
      }
    },
    {
      "cell_type": "code",
      "source": [
        "model = tf.keras.Sequential([\n",
        "    encoder,\n",
        "    tf.keras.layers.Embedding(len(encoder.get_vocabulary()), 64, mask_zero=True),\n",
        "    tf.keras.layers.Bidirectional(tf.keras.layers.LSTM(64, return_sequences=True)),\n",
        "    tf.keras.layers.Bidirectional(tf.keras.layers.LSTM(32)),\n",
        "    tf.keras.layers.Dense(64, activation='relu'),\n",
        "    tf.keras.layers.Dropout(0.5),\n",
        "    tf.keras.layers.Dense(1)\n",
        "])"
      ],
      "metadata": {
        "id": "7QKGsIDS8wyo"
      },
      "execution_count": 30,
      "outputs": []
    },
    {
      "cell_type": "code",
      "source": [
        "model.compile(loss=tf.keras.losses.BinaryCrossentropy(from_logits=True),\n",
        "              optimizer=tf.keras.optimizers.Adam(1e-4),\n",
        "              metrics=['accuracy'])"
      ],
      "metadata": {
        "id": "PqCJ30DQ9XzL"
      },
      "execution_count": 31,
      "outputs": []
    },
    {
      "cell_type": "code",
      "source": [
        "history = model.fit(train_dataset, epochs=10,\n",
        "                    validation_data=test_dataset,\n",
        "                    validation_steps=30)"
      ],
      "metadata": {
        "colab": {
          "base_uri": "https://localhost:8080/"
        },
        "id": "YYbJkTA5-Lpg",
        "outputId": "87676e43-ce64-49b7-caf8-acb31485cdba"
      },
      "execution_count": 32,
      "outputs": [
        {
          "output_type": "stream",
          "name": "stdout",
          "text": [
            "Epoch 1/10\n",
            "391/391 [==============================] - 80s 158ms/step - loss: 0.6289 - accuracy: 0.5749 - val_loss: 0.4206 - val_accuracy: 0.8182\n",
            "Epoch 2/10\n",
            "391/391 [==============================] - 50s 128ms/step - loss: 0.3816 - accuracy: 0.8312 - val_loss: 0.3636 - val_accuracy: 0.8240\n",
            "Epoch 3/10\n",
            "391/391 [==============================] - 49s 125ms/step - loss: 0.3341 - accuracy: 0.8563 - val_loss: 0.3457 - val_accuracy: 0.8354\n",
            "Epoch 4/10\n",
            "391/391 [==============================] - 52s 132ms/step - loss: 0.3212 - accuracy: 0.8636 - val_loss: 0.3346 - val_accuracy: 0.8516\n",
            "Epoch 5/10\n",
            "391/391 [==============================] - 51s 131ms/step - loss: 0.3128 - accuracy: 0.8671 - val_loss: 0.3254 - val_accuracy: 0.8505\n",
            "Epoch 6/10\n",
            "391/391 [==============================] - 49s 125ms/step - loss: 0.3071 - accuracy: 0.8674 - val_loss: 0.3238 - val_accuracy: 0.8578\n",
            "Epoch 7/10\n",
            "391/391 [==============================] - 50s 128ms/step - loss: 0.3084 - accuracy: 0.8674 - val_loss: 0.3238 - val_accuracy: 0.8609\n",
            "Epoch 8/10\n",
            "391/391 [==============================] - 50s 127ms/step - loss: 0.3025 - accuracy: 0.8700 - val_loss: 0.3265 - val_accuracy: 0.8469\n",
            "Epoch 9/10\n",
            "391/391 [==============================] - 49s 125ms/step - loss: 0.2993 - accuracy: 0.8718 - val_loss: 0.3193 - val_accuracy: 0.8526\n",
            "Epoch 10/10\n",
            "391/391 [==============================] - 49s 126ms/step - loss: 0.2985 - accuracy: 0.8714 - val_loss: 0.3284 - val_accuracy: 0.8630\n"
          ]
        }
      ]
    },
    {
      "cell_type": "code",
      "source": [
        "test_loss, test_acc = model.evaluate(test_dataset)\n",
        "\n",
        "print('Test Loss:', test_loss)\n",
        "print('Test Accuracy:', test_acc)"
      ],
      "metadata": {
        "colab": {
          "base_uri": "https://localhost:8080/"
        },
        "id": "FM4puDzQ-SHv",
        "outputId": "21e96e1f-94a1-4a51-cf23-ad811ae3860b"
      },
      "execution_count": 33,
      "outputs": [
        {
          "output_type": "stream",
          "name": "stdout",
          "text": [
            "391/391 [==============================] - 21s 53ms/step - loss: 0.3261 - accuracy: 0.8642\n",
            "Test Loss: 0.3260674476623535\n",
            "Test Accuracy: 0.8641999959945679\n"
          ]
        }
      ]
    },
    {
      "cell_type": "code",
      "source": [
        "# predict on a sample text without padding.\n",
        "\n",
        "sample_text = ('The movie was not good. The animation and the graphics '\n",
        "                'were terrible. I would not recommend this movie.')\n",
        "predictions = model.predict(np.array([sample_text]))\n",
        "print(predictions)"
      ],
      "metadata": {
        "colab": {
          "base_uri": "https://localhost:8080/"
        },
        "id": "4n74w2gY-3de",
        "outputId": "16d0db15-4f58-407a-c69c-eabafb792a1c"
      },
      "execution_count": 34,
      "outputs": [
        {
          "output_type": "stream",
          "name": "stdout",
          "text": [
            "1/1 [==============================] - 6s 6s/step\n",
            "[[-2.0175827]]\n"
          ]
        }
      ]
    },
    {
      "cell_type": "code",
      "source": [
        "plt.figure(figsize=(16, 6))\n",
        "plt.subplot(1, 2, 1)\n",
        "plot_graphs(history, 'accuracy')\n",
        "plt.subplot(1, 2, 2)\n",
        "plot_graphs(history, 'loss')"
      ],
      "metadata": {
        "colab": {
          "base_uri": "https://localhost:8080/",
          "height": 542
        },
        "id": "xkf-ENB0-5tF",
        "outputId": "09ebe5cb-679b-4d76-8148-fb9a9915b98f"
      },
      "execution_count": 35,
      "outputs": [
        {
          "output_type": "display_data",
          "data": {
            "text/plain": [
              "<Figure size 1600x600 with 2 Axes>"
            ],
            "image/png": "[encoded data removed]"
          },
          "metadata": {}
        }
      ]
    }
  ]
}