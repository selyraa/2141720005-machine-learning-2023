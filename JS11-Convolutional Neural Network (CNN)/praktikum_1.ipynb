{
  "nbformat": 4,
  "nbformat_minor": 0,
  "metadata": {
    "colab": {
      "provenance": [],
      "gpuType": "T4",
      "authorship_tag": "ABX9TyOAaIOGe5PZiEWwYLxZ/kFl",
      "include_colab_link": true
    },
    "kernelspec": {
      "name": "python3",
      "display_name": "Python 3"
    },
    "language_info": {
      "name": "python"
    },
    "accelerator": "GPU"
  },
  "cells": [
    {
      "cell_type": "markdown",
      "metadata": {
        "id": "view-in-github",
        "colab_type": "text"
      },
      "source": [
        "<a href=\"https://colab.research.google.com/github/selyraa/2141720005-machine-learning-2023/blob/main/JS11-Convolutional%20Neural%20Network%20(CNN)/praktikum_1.ipynb\" target=\"_parent\"><img src=\"https://colab.research.google.com/assets/colab-badge.svg\" alt=\"Open In Colab\"/></a>"
      ]
    },
    {
      "cell_type": "markdown",
      "source": [
        "# Praktikum 1"
      ],
      "metadata": {
        "id": "GlpcjpPCKVGB"
      }
    },
    {
      "cell_type": "markdown",
      "source": [
        "## Langkah 1 - Import Library"
      ],
      "metadata": {
        "id": "WsP5i9i8Jryu"
      }
    },
    {
      "cell_type": "code",
      "source": [
        "import tensorflow as tf\n",
        "from keras.preprocessing.image import ImageDataGenerator"
      ],
      "metadata": {
        "id": "5_FjDUc3JsyT"
      },
      "execution_count": 6,
      "outputs": []
    },
    {
      "cell_type": "markdown",
      "source": [
        "## Langkah 2 - Pra Pengolahan Data"
      ],
      "metadata": {
        "id": "ctgU-GfOKaE-"
      }
    },
    {
      "cell_type": "markdown",
      "source": [
        "### Langkah 2.1. Pra Pengolahan Data Training"
      ],
      "metadata": {
        "id": "wchb1COlKdiK"
      }
    },
    {
      "cell_type": "code",
      "source": [
        "from google.colab import drive\n",
        "drive.mount('/content/drive')"
      ],
      "metadata": {
        "colab": {
          "base_uri": "https://localhost:8080/"
        },
        "id": "kcELScUGM8m_",
        "outputId": "99fefc2b-c0ce-4fdc-c9f5-52ece0d22c4e"
      },
      "execution_count": 4,
      "outputs": [
        {
          "output_type": "stream",
          "name": "stdout",
          "text": [
            "Mounted at /content/drive\n"
          ]
        }
      ]
    },
    {
      "cell_type": "code",
      "source": [
        "train_datagen = ImageDataGenerator(rescale = 1./255,\n",
        "                                   shear_range = 0.2,\n",
        "                                   zoom_range = 0.2,\n",
        "                                   horizontal_flip = True)\n",
        "training_set = train_datagen.flow_from_directory('/content/drive/MyDrive/ML/dataset/dataset/training_set/',\n",
        "                                                 target_size = (64, 64),\n",
        "                                                 batch_size = 32,\n",
        "                                                 class_mode = 'binary')"
      ],
      "metadata": {
        "colab": {
          "base_uri": "https://localhost:8080/"
        },
        "id": "n8LSmlRnJupI",
        "outputId": "218c3709-3043-49f1-b19e-d5e418f291d0"
      },
      "execution_count": 7,
      "outputs": [
        {
          "output_type": "stream",
          "name": "stdout",
          "text": [
            "Found 8000 images belonging to 2 classes.\n"
          ]
        }
      ]
    },
    {
      "cell_type": "markdown",
      "source": [
        "### Langkah 2.2. Pra Pengolahan Data Testing"
      ],
      "metadata": {
        "id": "1q1woQGDKgoL"
      }
    },
    {
      "cell_type": "code",
      "source": [
        "test_datagen = ImageDataGenerator(rescale = 1./255)\n",
        "test_set = test_datagen.flow_from_directory('/content/drive/MyDrive/ML/dataset/dataset/test_set/',\n",
        "                                            target_size = (64, 64),\n",
        "                                            batch_size = 32,\n",
        "                                            class_mode = 'binary')"
      ],
      "metadata": {
        "colab": {
          "base_uri": "https://localhost:8080/"
        },
        "id": "NSohkHsNKha2",
        "outputId": "0f898126-bf0a-44d9-af77-3b28b4b75637"
      },
      "execution_count": 8,
      "outputs": [
        {
          "output_type": "stream",
          "name": "stdout",
          "text": [
            "Found 2000 images belonging to 2 classes.\n"
          ]
        }
      ]
    },
    {
      "cell_type": "markdown",
      "source": [
        "## Langkah 3 - Pembuatan Model CNN"
      ],
      "metadata": {
        "id": "nGkH7IeHSme7"
      }
    },
    {
      "cell_type": "markdown",
      "source": [
        "### Langkah 3.1.  - Inisiasi Model CNN"
      ],
      "metadata": {
        "id": "OCHGd8t9So5O"
      }
    },
    {
      "cell_type": "code",
      "source": [
        "cnn = tf.keras.models.Sequential()"
      ],
      "metadata": {
        "id": "NqIjiy5kSnDw"
      },
      "execution_count": 9,
      "outputs": []
    },
    {
      "cell_type": "markdown",
      "source": [
        "### Langkah 3.2. - Pembuatan Layer Konvolusi 1"
      ],
      "metadata": {
        "id": "spSt3argSsnQ"
      }
    },
    {
      "cell_type": "code",
      "source": [
        "cnn.add(tf.keras.layers.Conv2D(filters=32, kernel_size=3, activation='relu', input_shape=[64, 64, 3]))"
      ],
      "metadata": {
        "id": "ZFV7xh61Staf"
      },
      "execution_count": 10,
      "outputs": []
    },
    {
      "cell_type": "markdown",
      "source": [
        "### Langkah 3.3 - Pembuatan Layer Pooling 1"
      ],
      "metadata": {
        "id": "lxzBUkjzSy2A"
      }
    },
    {
      "cell_type": "code",
      "source": [
        "cnn.add(tf.keras.layers.MaxPool2D(pool_size=2, strides=2))"
      ],
      "metadata": {
        "id": "c9dnF0DtSzWc"
      },
      "execution_count": 11,
      "outputs": []
    },
    {
      "cell_type": "markdown",
      "source": [
        "### Langkah 3.4 - Pembuatan Layer Konvolusi 2 dan Pooling 2"
      ],
      "metadata": {
        "id": "3XCbiHUUS2f6"
      }
    },
    {
      "cell_type": "code",
      "source": [
        "cnn.add(tf.keras.layers.Conv2D(filters=32, kernel_size=3, activation='relu'))\n",
        "cnn.add(tf.keras.layers.MaxPool2D(pool_size=2, strides=2))"
      ],
      "metadata": {
        "id": "L3UmlSBuS3Yx"
      },
      "execution_count": 12,
      "outputs": []
    },
    {
      "cell_type": "markdown",
      "source": [
        "### Langkah 3.5 - Flattening"
      ],
      "metadata": {
        "id": "TLeYWZlvS5CW"
      }
    },
    {
      "cell_type": "code",
      "source": [
        "cnn.add(tf.keras.layers.Flatten())"
      ],
      "metadata": {
        "id": "dFr5rt6ES7Up"
      },
      "execution_count": 13,
      "outputs": []
    },
    {
      "cell_type": "markdown",
      "source": [
        "### Langkah 3.6 - Fully Connected Layer 1 (Input)"
      ],
      "metadata": {
        "id": "LvndK6H3S82l"
      }
    },
    {
      "cell_type": "code",
      "source": [
        "cnn.add(tf.keras.layers.Dense(units=128, activation='relu'))"
      ],
      "metadata": {
        "id": "Al05nmiJTBBn"
      },
      "execution_count": 14,
      "outputs": []
    },
    {
      "cell_type": "markdown",
      "source": [
        "### Langkah 3.7 - Fully Connected Layer 2 (Output)"
      ],
      "metadata": {
        "id": "hVkraFhxTCqY"
      }
    },
    {
      "cell_type": "code",
      "source": [
        "cnn.add(tf.keras.layers.Dense(units=1, activation='sigmoid'))"
      ],
      "metadata": {
        "id": "H2QWsmBtTEU9"
      },
      "execution_count": 15,
      "outputs": []
    },
    {
      "cell_type": "markdown",
      "source": [
        "### Langkah 3.8 - Compile Model CNN"
      ],
      "metadata": {
        "id": "WXG7QMwMTJ_p"
      }
    },
    {
      "cell_type": "code",
      "source": [
        "cnn.compile(optimizer = 'adam', loss = 'binary_crossentropy', metrics = ['accuracy'])"
      ],
      "metadata": {
        "id": "JJaLGhnVTKgU"
      },
      "execution_count": 16,
      "outputs": []
    },
    {
      "cell_type": "markdown",
      "source": [
        "## Langkah 4 - Fit CNN"
      ],
      "metadata": {
        "id": "K_QNtFDdTOYj"
      }
    },
    {
      "cell_type": "code",
      "source": [
        "# @title Default title text\n",
        "cnn.fit(x = training_set, validation_data = test_set, epochs = 25)"
      ],
      "metadata": {
        "colab": {
          "base_uri": "https://localhost:8080/"
        },
        "id": "pBAd7YYzTO6h",
        "outputId": "b2032590-bf0d-49be-9e41-1d15e0eee394"
      },
      "execution_count": 17,
      "outputs": [
        {
          "output_type": "stream",
          "name": "stdout",
          "text": [
            "Epoch 1/25\n",
            "250/250 [==============================] - 1575s 6s/step - loss: 0.6765 - accuracy: 0.5821 - val_loss: 0.6399 - val_accuracy: 0.6280\n",
            "Epoch 2/25\n",
            "250/250 [==============================] - 45s 180ms/step - loss: 0.6308 - accuracy: 0.6456 - val_loss: 0.6098 - val_accuracy: 0.6830\n",
            "Epoch 3/25\n",
            "250/250 [==============================] - 40s 159ms/step - loss: 0.5983 - accuracy: 0.6833 - val_loss: 0.5848 - val_accuracy: 0.6940\n",
            "Epoch 4/25\n",
            "250/250 [==============================] - 40s 160ms/step - loss: 0.5545 - accuracy: 0.7174 - val_loss: 0.5322 - val_accuracy: 0.7290\n",
            "Epoch 5/25\n",
            "250/250 [==============================] - 39s 158ms/step - loss: 0.5253 - accuracy: 0.7416 - val_loss: 0.5369 - val_accuracy: 0.7275\n",
            "Epoch 6/25\n",
            "250/250 [==============================] - 38s 154ms/step - loss: 0.5045 - accuracy: 0.7491 - val_loss: 0.5150 - val_accuracy: 0.7445\n",
            "Epoch 7/25\n",
            "250/250 [==============================] - 40s 159ms/step - loss: 0.4749 - accuracy: 0.7725 - val_loss: 0.5381 - val_accuracy: 0.7340\n",
            "Epoch 8/25\n",
            "250/250 [==============================] - 39s 157ms/step - loss: 0.4661 - accuracy: 0.7785 - val_loss: 0.4859 - val_accuracy: 0.7725\n",
            "Epoch 9/25\n",
            "250/250 [==============================] - 44s 176ms/step - loss: 0.4418 - accuracy: 0.7954 - val_loss: 0.4803 - val_accuracy: 0.7755\n",
            "Epoch 10/25\n",
            "250/250 [==============================] - 39s 157ms/step - loss: 0.4290 - accuracy: 0.7999 - val_loss: 0.4951 - val_accuracy: 0.7725\n",
            "Epoch 11/25\n",
            "250/250 [==============================] - 39s 155ms/step - loss: 0.4054 - accuracy: 0.8140 - val_loss: 0.4608 - val_accuracy: 0.7920\n",
            "Epoch 12/25\n",
            "250/250 [==============================] - 39s 156ms/step - loss: 0.3847 - accuracy: 0.8254 - val_loss: 0.4785 - val_accuracy: 0.7910\n",
            "Epoch 13/25\n",
            "250/250 [==============================] - 40s 158ms/step - loss: 0.3706 - accuracy: 0.8331 - val_loss: 0.4790 - val_accuracy: 0.7875\n",
            "Epoch 14/25\n",
            "250/250 [==============================] - 39s 158ms/step - loss: 0.3558 - accuracy: 0.8371 - val_loss: 0.4711 - val_accuracy: 0.7870\n",
            "Epoch 15/25\n",
            "250/250 [==============================] - 43s 174ms/step - loss: 0.3266 - accuracy: 0.8571 - val_loss: 0.4756 - val_accuracy: 0.8020\n",
            "Epoch 16/25\n",
            "250/250 [==============================] - 39s 157ms/step - loss: 0.3185 - accuracy: 0.8610 - val_loss: 0.4635 - val_accuracy: 0.7950\n",
            "Epoch 17/25\n",
            "250/250 [==============================] - 39s 155ms/step - loss: 0.2977 - accuracy: 0.8708 - val_loss: 0.4680 - val_accuracy: 0.8015\n",
            "Epoch 18/25\n",
            "250/250 [==============================] - 40s 158ms/step - loss: 0.2755 - accuracy: 0.8817 - val_loss: 0.5079 - val_accuracy: 0.7865\n",
            "Epoch 19/25\n",
            "250/250 [==============================] - 40s 158ms/step - loss: 0.2617 - accuracy: 0.8909 - val_loss: 0.5081 - val_accuracy: 0.8020\n",
            "Epoch 20/25\n",
            "250/250 [==============================] - 39s 158ms/step - loss: 0.2447 - accuracy: 0.8980 - val_loss: 0.5286 - val_accuracy: 0.8065\n",
            "Epoch 21/25\n",
            "250/250 [==============================] - 44s 175ms/step - loss: 0.2307 - accuracy: 0.9050 - val_loss: 0.5797 - val_accuracy: 0.7905\n",
            "Epoch 22/25\n",
            "250/250 [==============================] - 44s 175ms/step - loss: 0.2163 - accuracy: 0.9103 - val_loss: 0.6607 - val_accuracy: 0.7525\n",
            "Epoch 23/25\n",
            "250/250 [==============================] - 44s 174ms/step - loss: 0.2128 - accuracy: 0.9129 - val_loss: 0.5765 - val_accuracy: 0.7930\n",
            "Epoch 24/25\n",
            "250/250 [==============================] - 39s 156ms/step - loss: 0.1987 - accuracy: 0.9196 - val_loss: 0.5926 - val_accuracy: 0.7970\n",
            "Epoch 25/25\n",
            "250/250 [==============================] - 38s 152ms/step - loss: 0.1741 - accuracy: 0.9335 - val_loss: 0.6276 - val_accuracy: 0.7880\n"
          ]
        },
        {
          "output_type": "execute_result",
          "data": {
            "text/plain": [
              "<keras.src.callbacks.History at 0x7e2f56bcb040>"
            ]
          },
          "metadata": {},
          "execution_count": 17
        }
      ]
    },
    {
      "cell_type": "markdown",
      "source": [
        "## Langkah 5 - Prediksi dengan 1 Citra"
      ],
      "metadata": {
        "id": "KiovYQLiTQuy"
      }
    },
    {
      "cell_type": "code",
      "source": [
        "import numpy as np\n",
        "from keras.preprocessing import image\n",
        "test_image = image.load_img('/content/drive/MyDrive/ML/dataset/dataset/single_prediction/cat_or_dog_1.jpg', target_size = (64, 64))\n",
        "test_image = image.img_to_array(test_image)\n",
        "test_image = np.expand_dims(test_image, axis = 0)\n",
        "result = cnn.predict(test_image)\n",
        "training_set.class_indices\n",
        "if result[0][0] == 1:\n",
        "  prediction = 'dog'\n",
        "else:\n",
        "  prediction = 'cat'\n",
        "\n",
        "print(prediction)"
      ],
      "metadata": {
        "colab": {
          "base_uri": "https://localhost:8080/"
        },
        "id": "TUippDQ9_uSL",
        "outputId": "b4cbf6b3-e5c5-420f-ad25-c450fe3eab84"
      },
      "execution_count": 18,
      "outputs": [
        {
          "output_type": "stream",
          "name": "stdout",
          "text": [
            "1/1 [==============================] - 0s 215ms/step\n",
            "dog\n"
          ]
        }
      ]
    }
  ]
}